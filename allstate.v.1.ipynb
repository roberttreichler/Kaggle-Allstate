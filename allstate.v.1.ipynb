{
 "cells": [
  {
   "cell_type": "code",
   "execution_count": 1,
   "metadata": {
    "collapsed": true
   },
   "outputs": [],
   "source": [
    "import os#Miscellaneous operating system interfaces\n",
    "os.chdir(r'C:\\\\Users\\\\rtreichl\\\\allstate')  #working directory\n",
    "import pandas as pd\n",
    "import numpy as np\n",
    "import matplotlib.pyplot as plt\n",
    "\n",
    "from sklearn import preprocessing\n",
    "\n",
    "from sklearn.preprocessing import MinMaxScaler\n",
    "\n",
    "import xgboost as xgb #xgboost\n",
    "\n",
    "from sklearn.grid_search import RandomizedSearchCV\n",
    "\n",
    "from scipy.stats import randint as sp_randint\n",
    "from scipy.stats import uniform\n",
    "from scipy.stats import beta\n",
    "from scipy.stats import expon\n",
    "\n",
    "from sklearn.metrics import mean_absolute_error\n",
    "\n",
    "from sklearn.decomposition import PCA"
   ]
  },
  {
   "cell_type": "code",
   "execution_count": 2,
   "metadata": {
    "collapsed": true
   },
   "outputs": [],
   "source": [
    "%matplotlib inline"
   ]
  },
  {
   "cell_type": "code",
   "execution_count": 3,
   "metadata": {
    "collapsed": true
   },
   "outputs": [],
   "source": [
    "train = pd.read_csv('train.csv')\n",
    "test  = pd.read_csv('test.csv')"
   ]
  },
  {
   "cell_type": "code",
   "execution_count": 4,
   "metadata": {
    "collapsed": false
   },
   "outputs": [
    {
     "name": "stdout",
     "output_type": "stream",
     "text": [
      "(188318, 132)\n",
      "(125546, 131)\n"
     ]
    }
   ],
   "source": [
    "print(train.shape)\n",
    "print(test.shape)"
   ]
  },
  {
   "cell_type": "code",
   "execution_count": 5,
   "metadata": {
    "collapsed": false
   },
   "outputs": [],
   "source": [
    "#set output to view more columns and rows\n",
    "pd.set_option(\"display.max_columns\",4000)\n",
    "pd.set_option(\"display.max_rows\",5000)\n",
    "\n",
    "pd.options.display.max_seq_items = 10000"
   ]
  },
  {
   "cell_type": "code",
   "execution_count": 6,
   "metadata": {
    "collapsed": false
   },
   "outputs": [
    {
     "name": "stdout",
     "output_type": "stream",
     "text": [
      "(188318, 130)\n",
      "(125546, 130)\n",
      "(313864, 130)\n"
     ]
    }
   ],
   "source": [
    "target = train['loss']\n",
    "train = train.drop(['id','loss'],axis=1)\n",
    "test_id=test['id']\n",
    "test  = test.drop('id',axis=1)\n",
    "\n",
    "print(train.shape)\n",
    "print(test.shape)               \n",
    "\n",
    "#length of train\n",
    "num_train = len(train)\n",
    "\n",
    "#combine train and test sets\n",
    "df_all = pd.concat((train, test), axis=0, ignore_index=True)\n",
    "print(df_all.shape)\n",
    "del train\n",
    "del test"
   ]
  },
  {
   "cell_type": "code",
   "execution_count": 7,
   "metadata": {
    "collapsed": false
   },
   "outputs": [],
   "source": [
    "# encode\n",
    "ab_list = ['cat1', 'cat2', 'cat3', 'cat4', 'cat5', 'cat6', 'cat7', 'cat8', 'cat9',\n",
    "       'cat10', 'cat11', 'cat12', 'cat13', 'cat14', 'cat15', 'cat16', 'cat17',\n",
    "       'cat18', 'cat19', 'cat20', 'cat21', 'cat22', 'cat23', 'cat24', 'cat25',\n",
    "       'cat26', 'cat27', 'cat28', 'cat29', 'cat30', 'cat31', 'cat32', 'cat33',\n",
    "       'cat34', 'cat35', 'cat36', 'cat37', 'cat38', 'cat39', 'cat40', 'cat41',\n",
    "       'cat42', 'cat43', 'cat44', 'cat45', 'cat46', 'cat47', 'cat48', 'cat49',\n",
    "       'cat50', 'cat51', 'cat52', 'cat53', 'cat54', 'cat55', 'cat56', 'cat57',\n",
    "       'cat58', 'cat59', 'cat60', 'cat61', 'cat62', 'cat63', 'cat64', 'cat65',\n",
    "       'cat66', 'cat67', 'cat68', 'cat69', 'cat70', 'cat71', 'cat72']\n",
    "#  Encoding categorical features\n",
    "# creating indicator variables (and leaving 1 out) will prove erroneous given the number of variables and anonimity\n",
    "\n",
    "for f in ab_list:\n",
    "    lbl = preprocessing.LabelEncoder()\n",
    "    lbl.fit(np.unique(list(df_all[f].values)))\n",
    "    df_all[f] = lbl.transform(list(df_all[f].values))"
   ]
  },
  {
   "cell_type": "code",
   "execution_count": 8,
   "metadata": {
    "collapsed": false
   },
   "outputs": [],
   "source": [
    "#dummy\n",
    "d_list = ['cat73','cat74', 'cat75', 'cat76', 'cat77', 'cat78', 'cat79', 'cat80', 'cat81',\n",
    "       'cat82', 'cat83', 'cat84', 'cat85', 'cat86', 'cat87', 'cat88', 'cat89',\n",
    "       'cat90', 'cat91', 'cat92', 'cat93', 'cat94', 'cat95', 'cat96', 'cat97',\n",
    "       'cat98', 'cat99', 'cat100', 'cat101', 'cat102', 'cat103', 'cat104',\n",
    "       'cat105', 'cat106', 'cat107', 'cat108', 'cat109', 'cat110', 'cat111',\n",
    "       'cat112', 'cat113', 'cat114', 'cat115', 'cat116']\n",
    "\n",
    "for dl in d_list:                           \n",
    "    dummy_temp=[]\n",
    "    dummy_temp=pd.get_dummies(df_all[dl],prefix=str(dl),prefix_sep='_')\n",
    "    df_all=pd.concat([df_all,dummy_temp],axis=1)\n",
    "\n",
    "df_all=df_all.drop(d_list,axis=1)   "
   ]
  },
  {
   "cell_type": "code",
   "execution_count": 9,
   "metadata": {
    "collapsed": false
   },
   "outputs": [],
   "source": [
    "# identify potential duplicate columns\n",
    "\n",
    "dupecol = []\n",
    "c = df_all.columns\n",
    "for i in range(len(c)-1):\n",
    "    v = df_all[c[i]].values\n",
    "    for j in range(i+1,len(c)):\n",
    "        if np.array_equal(v,df_all[c[j]].values):\n",
    "            dupecol.append(c[j])\n",
    "df_all=df_all.drop(dupecol,axis=1)"
   ]
  },
  {
   "cell_type": "code",
   "execution_count": 10,
   "metadata": {
    "collapsed": true
   },
   "outputs": [],
   "source": [
    "constant=[]\n",
    "\n",
    "for col in df_all.columns:\n",
    "    if df_all[col].std() == 0:\n",
    "        constant.append(col)\n",
    "\n",
    "df_all.drop(constant, axis=1, inplace=True)"
   ]
  },
  {
   "cell_type": "code",
   "execution_count": 11,
   "metadata": {
    "collapsed": false
   },
   "outputs": [],
   "source": [
    "#define train and test set from df_all\n",
    "df_train = df_all.iloc[:num_train]\n",
    "df_test = df_all.iloc[num_train:]\n",
    "\n",
    "std_scale = MinMaxScaler(feature_range=(-1, 1)).fit(df_train)\n",
    "x_train_std = std_scale.transform(df_train)\n",
    "x_test_std = std_scale.transform(df_test)\n",
    "\n",
    "del df_all\n",
    "del df_train\n",
    "del df_test"
   ]
  },
  {
   "cell_type": "code",
   "execution_count": 12,
   "metadata": {
    "collapsed": true
   },
   "outputs": [],
   "source": [
    "################################\n",
    "#    PCA\n",
    "###############################\n",
    "\n",
    "#pca\n",
    "pca_estimator  = PCA(whiten=True)\n",
    "x_train_pca = pca_estimator.fit_transform(x_train_std)\n",
    "x_test_pca  = pca_estimator.transform(x_test_std)"
   ]
  },
  {
   "cell_type": "code",
   "execution_count": 13,
   "metadata": {
    "collapsed": false
   },
   "outputs": [
    {
     "name": "stderr",
     "output_type": "stream",
     "text": [
      "C:\\Users\\rtreichl\\AppData\\Local\\Continuum\\Anaconda3\\lib\\site-packages\\matplotlib\\axes\\_axes.py:519: UserWarning: No labelled objects found. Use label='...' kwarg on individual plots.\n",
      "  warnings.warn(\"No labelled objects found. \"\n"
     ]
    },
    {
     "data": {
      "image/png": "[encoded data removed]",
      "text/plain": [
       "<matplotlib.figure.Figure at 0xac2f470>"
      ]
     },
     "metadata": {},
     "output_type": "display_data"
    }
   ],
   "source": [
    "#Identify Number of components to model\n",
    "ex_var=pca_estimator.explained_variance_ratio_[:250]\n",
    "ex_var_all=pd.DataFrame(pca_estimator.explained_variance_ratio_)\n",
    "plt.plot(ex_var)\n",
    "plt.xlabel('Component')\n",
    "plt.ylabel('Explained Variance in %')\n",
    "plt.title('Explained Variance by Component')\n",
    "plt.legend(loc='best')"
   ]
  },
  {
   "cell_type": "code",
   "execution_count": 15,
   "metadata": {
    "collapsed": false
   },
   "outputs": [
    {
     "name": "stdout",
     "output_type": "stream",
     "text": [
      "XGBRegressor(base_score=0.5, colsample_bylevel=1,\n",
      "       colsample_bytree=0.9372094088402632, gamma=1.5032557849778516,\n",
      "       learning_rate=0.19078948741159998, max_delta_step=0, max_depth=8,\n",
      "       min_child_weight=5.862596762894024, missing=None, n_estimators=100,\n",
      "       nthread=-1, objective='reg:linear', reg_alpha=28.674865018539798,\n",
      "       reg_lambda=0.36472541255932744, scale_pos_weight=1.8747397567175428,\n",
      "       seed=0, silent=True, subsample=0.8364553606760016)      grid_search.best_estimator_\n",
      "-1276.005178      grid_search.best_score_\n"
     ]
    }
   ],
   "source": [
    "import warnings\n",
    "warnings.filterwarnings('ignore')\n",
    "\n",
    "\n",
    "\n",
    "# build a extreme gradient booster regressor\n",
    "xgb_params =  {'objective'   : 'reg:linear',\n",
    "               'eval_metric' : 'mae', \n",
    "               'nthread'     : -1,\n",
    "               'seed'        : 27,\n",
    "               'silent'      : 0\n",
    "              }\n",
    "\n",
    "\n",
    "clf_xgb = xgb.XGBRegressor(xgb_params)\n",
    "         \n",
    "# use a full grid over all parameters\n",
    "xgb_param_grid = {\"max_depth\"         : sp_randint(3, 40),\n",
    "                  \"learning_rate\"     : uniform(0.01,0.3),\n",
    "#                  \"n_estimators\"      : sp_randint(20, 50000),\n",
    "                  \"gamma\"             : uniform(0.0,10.0),\n",
    "                  \"min_child_weight\"  : expon(0, 50),\n",
    "                  #\"max_delta_step\"    : 1\n",
    "                  \"subsample\"         : beta(10, 1),\n",
    "                  \"colsample_bytree\"  : beta(10, 1),\n",
    "                  #\"colsample_bylevel\" :\n",
    "                  \"reg_alpha\"         : expon(0, 50),\n",
    "                  \"reg_lambda\"        : uniform(0.0,1.0),\n",
    "                  \"scale_pos_weight\"  : uniform(1,3),\n",
    "                 }\n",
    "\n",
    "# run grid search\n",
    "n_iter_search = 100\n",
    "\n",
    "grid_search = RandomizedSearchCV(estimator=clf_xgb, param_distributions=xgb_param_grid,n_jobs=-1,\n",
    "                                 scoring='mean_absolute_error',n_iter=n_iter_search)\n",
    "grid_search.fit(x_train_pca[:,:250], target.ravel())\n",
    "\n",
    "print(str(grid_search.best_estimator_)+\"      grid_search.best_estimator_\")\n",
    "print(str(grid_search.best_score_)+\"      grid_search.best_score_\")"
   ]
  },
  {
   "cell_type": "code",
   "execution_count": 20,
   "metadata": {
    "collapsed": false
   },
   "outputs": [
    {
     "name": "stdout",
     "output_type": "stream",
     "text": [
      " train mse 1246.20222731\n"
     ]
    }
   ],
   "source": [
    "xgb_params =  {'base_score':0.5,'colsample_bylevel':1,'colsample_bytree':0.5,'gamma':1.032557849778516,\n",
    "               'learning_rate':0.01,'max_delta_step':0,'max_depth':12,\n",
    "               'min_child_weight':1,'missing':None,'n_estimators':2500,\n",
    "               'nthread':-1,'objective':'reg:linear','reg_alpha':1,\n",
    "               'reg_lambda':0.36472541255932744,'scale_pos_weight':1.8747397567175428,\n",
    "               'seed':0,'silent':True,'subsample':0.8364553606760016\n",
    "              }\n",
    "\n",
    "dtrain = xgb.DMatrix(x_train_pca[:,:250], label=target)\n",
    "xgb_test_data  = xgb.DMatrix(x_test_pca[:,:250])\n",
    "gbdt = xgb.train(xgb_params, dtrain)\n",
    "\n",
    "y_pred_train=pd.DataFrame(gbdt.predict(dtrain),columns=['yhat'])\n",
    "y_pred_test =pd.DataFrame(gbdt.predict(xgb_test_data),columns=['yhat'])\n",
    "\n",
    "mean_ae_train = mean_absolute_error(target, y_pred_train['yhat'])\n",
    "#mean_ae_test  = mean_absolute_error(y_test, y_pred_test['yhat'])\n",
    "\n",
    "print(' train mse '+ str(mean_ae_train))\n",
    "#print(' test mse ' + str(mse_test))\n",
    "\n",
    "\n",
    "submission=pd.DataFrame(columns=['id','loss'])\n",
    "submission['id']=test_id\n",
    "submission['loss']=y_pred_test['yhat']\n",
    "submission.to_csv('allstate_submission.csv',index=False)"
   ]
  }
 ],
 "metadata": {
  "kernelspec": {
   "display_name": "Python 3",
   "language": "python",
   "name": "python3"
  },
  "language_info": {
   "codemirror_mode": {
    "name": "ipython",
    "version": 3
   },
   "file_extension": ".py",
   "mimetype": "text/x-python",
   "name": "python",
   "nbconvert_exporter": "python",
   "pygments_lexer": "ipython3",
   "version": "3.5.2"
  }
 },
 "nbformat": 4,
 "nbformat_minor": 0
}
